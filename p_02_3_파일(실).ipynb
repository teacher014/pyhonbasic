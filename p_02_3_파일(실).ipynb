{
  "nbformat": 4,
  "nbformat_minor": 0,
  "metadata": {
    "colab": {
      "name": "p_02_3_파일(실).ipynb",
      "provenance": [],
      "collapsed_sections": [],
      "include_colab_link": true
    },
    "kernelspec": {
      "name": "python3",
      "display_name": "Python 3"
    }
  },
  "cells": [
    {
      "cell_type": "markdown",
      "metadata": {
        "id": "view-in-github",
        "colab_type": "text"
      },
      "source": [
        "<a href=\"https://colab.research.google.com/github/teacher014/pythonbasic/blob/main/p_02_3_%ED%8C%8C%EC%9D%BC(%EC%8B%A4).ipynb\" target=\"_parent\"><img src=\"https://colab.research.google.com/assets/colab-badge.svg\" alt=\"Open In Colab\"/></a>"
      ]
    },
    {
      "cell_type": "markdown",
      "metadata": {
        "id": "zB5oLSiD0VHt"
      },
      "source": [
        "#파일(File)\n",
        "\n",
        "\n",
        "### **파일 생성**\n",
        "+ 파일 객체 = open(파일 이름, 파일 열기 모드, encoding='UTF-8’)\n",
        " - 파일명이 한글일 경우는 encoding='UTF-8＇을 사용\n",
        "\n",
        "### **파일출력함수 : write()**\n",
        "### **파일입력함수 : readline(), readlines(), read()**\n",
        "+ readline(): 파일의 첫 번째 줄을 읽어 출력하는 경우\n",
        "+ readlines(): 파일의 모든 라인을 읽어서 각각의 줄을 요소로 갖는 리스트로 리턴\n",
        "+ read(): 파일의 내용 전체를 문자열로 리턴\n",
        "\n",
        "### **파일 닫기**\n",
        "+ 파일 객체.close()\n",
        "\n",
        "\n"
      ]
    },
    {
      "cell_type": "code",
      "metadata": {
        "id": "_BCx9kX7jVrS",
        "colab": {
          "base_uri": "https://localhost:8080/"
        },
        "outputId": "0e0648b3-5d7b-49a0-b374-4a61f77a9026"
      },
      "source": [
        "# 파일 출력\n",
        "f = open('','w')\n",
        "\n",
        "inData = input('기록1: ')\n",
        "\n",
        "inData = input('기록2: ')\n",
        "f.write(inData + '\\n')\n",
        "\n",
        "f.close()"
      ],
      "execution_count": null,
      "outputs": [
        {
          "name": "stdout",
          "output_type": "stream",
          "text": [
            "기록1: 안녕하세요\n",
            "기록2: 반갑습니다\n"
          ]
        }
      ]
    },
    {
      "cell_type": "code",
      "metadata": {
        "id": "63il2_8K919M",
        "colab": {
          "base_uri": "https://localhost:8080/"
        },
        "outputId": "8beb0e71-f95d-4f4d-f3b2-415127e00cc2"
      },
      "source": [
        "f = open('/content/test.txt', 'w')\n",
        "inData = input('기록3 : ')\n",
        "f.write(inData)\n",
        "f.close()"
      ],
      "execution_count": null,
      "outputs": [
        {
          "name": "stdout",
          "output_type": "stream",
          "text": [
            "기록할 내용3 : 비가 오려나\n"
          ]
        }
      ]
    },
    {
      "cell_type": "code",
      "metadata": {
        "id": "JNQdbiam15Hd"
      },
      "source": [
        "#구글 드라이브 마운트\n",
        "from google.colab import drive \n",
        "drive.mount('/content/gdrive/') "
      ],
      "execution_count": null,
      "outputs": []
    },
    {
      "cell_type": "code",
      "metadata": {
        "id": "IM6-HWJ72mss"
      },
      "source": [
        "fp = open('/content/지역평균기온.txt', \n",
        "\n",
        "fp.close()\n",
        "print(data)"
      ],
      "execution_count": null,
      "outputs": []
    },
    {
      "cell_type": "code",
      "metadata": {
        "id": "LSAWTWRW2xwa",
        "colab": {
          "base_uri": "https://localhost:8080/"
        },
        "outputId": "90376dfe-7b4e-4ceb-b830-d2c443bff4b7"
      },
      "source": [
        "fp = open('/content/지역평균기온.txt', 'r', encoding='utf-8')\n",
        "\n",
        "fp.close()\n",
        "print(data)"
      ],
      "execution_count": null,
      "outputs": [
        {
          "output_type": "stream",
          "name": "stdout",
          "text": [
            "서울,20\n",
            "\n"
          ]
        }
      ]
    },
    {
      "cell_type": "code",
      "metadata": {
        "id": "l4Iz230j3S95",
        "colab": {
          "base_uri": "https://localhost:8080/"
        },
        "outputId": "aed62c10-e15e-49fa-e979-b9e96362c7b5"
      },
      "source": [
        "fp = open('/content/지역평균기온.txt', 'r', encoding='utf-8')\n",
        "\n",
        "fp.close()\n",
        "print(data)"
      ],
      "execution_count": null,
      "outputs": [
        {
          "output_type": "stream",
          "name": "stdout",
          "text": [
            "['서울,18\\n', '부산,17.8\\n', '대구,16.9\\n', '인천,17.8\\n', '백령도,15.5\\n', '전주,19.0\\n', '목포,18.8\\n', '흑산도,16.8\\n', '광주,18.9\\n', '여수,18.4\\n', '대전,18.1\\n', '청주,18.8\\n', '울산,17.2\\n', '포항,18.2\\n', '춘천,15.5\\n', '강릉,14.2\\n', '창원,16.9\\n', '제주,19.7\\n', '울릉도독도,15.2']\n"
          ]
        }
      ]
    },
    {
      "cell_type": "code",
      "metadata": {
        "id": "YnCzwmI-QHTx"
      },
      "source": [
        "#딕셔너리, # dt[items[0]] = items[1]\n",
        "dt = {}\n",
        "for line in data:\n",
        "  line = #replace\n",
        "  items = #split\n",
        "\n",
        "dt"
      ],
      "execution_count": null,
      "outputs": []
    },
    {
      "cell_type": "markdown",
      "metadata": {
        "id": "ykEQwui74KAQ"
      },
      "source": [
        "\n",
        "### **파일을 open한 후 with…as 구문이 끝나면 자동으로 close**\n",
        "```\n",
        "with open(파일 경로, 모드) as 파일 객체:\n",
        "```"
      ]
    },
    {
      "cell_type": "code",
      "metadata": {
        "id": "X0YIUXkB3iq_",
        "colab": {
          "base_uri": "https://localhost:8080/"
        },
        "outputId": "f9f3e8bf-6257-48fc-aa3f-db96947c8158"
      },
      "source": [
        "#11월전국기온.txt 파일 읽기\n"
      ],
      "execution_count": null,
      "outputs": [
        {
          "output_type": "stream",
          "name": "stdout",
          "text": [
            "['서울,18\\n', '부산,17.8\\n', '대구,16.9\\n', '인천,17.8\\n', '백령도,15.5\\n', '전주,19.0\\n', '목포,18.8\\n', '흑산도,16.8\\n', '광주,18.9\\n', '여수,18.4\\n', '대전,18.1\\n', '청주,18.8\\n', '울산,17.2\\n', '포항,18.2\\n', '춘천,15.5\\n', '강릉,14.2\\n', '창원,16.9\\n', '제주,19.7\\n', '울릉도독도,15.2']\n"
          ]
        }
      ]
    },
    {
      "cell_type": "code",
      "metadata": {
        "id": "8nxJv7KnPGZI"
      },
      "source": [
        "# 리스트로 읽기\n",
        "#item[0], item[1], temp.append(float(item[1]))\n",
        "temp = []\n",
        "for line in data:\n",
        "    line = line.replace('\\n','')\n",
        "    item = line.split(',')\n"
      ],
      "execution_count": null,
      "outputs": []
    },
    {
      "cell_type": "code",
      "metadata": {
        "id": "XWHzZv23PKdb"
      },
      "source": [
        "temp"
      ],
      "execution_count": null,
      "outputs": []
    },
    {
      "cell_type": "code",
      "metadata": {
        "id": "qX5LPFQXPM8h",
        "colab": {
          "base_uri": "https://localhost:8080/"
        },
        "outputId": "8929f672-73e5-449f-f248-3643792c7c0d"
      },
      "source": [
        "print(f'평균기온 : { : 0.2f} ℃')"
      ],
      "execution_count": null,
      "outputs": [
        {
          "output_type": "stream",
          "name": "stdout",
          "text": [
            "평균기온 :  17.46℃\n"
          ]
        }
      ]
    },
    {
      "cell_type": "markdown",
      "metadata": {
        "id": "0l8BuMV-PcA5"
      },
      "source": [
        "## with open() as 파일객체 :"
      ]
    },
    {
      "cell_type": "code",
      "metadata": {
        "id": "PhT8_QGoPbmk"
      },
      "source": [
        "with open('/content/지역평균기온.txt','r', encoding='utf-8') as fp:\n",
        "  data = fp.readlines()\n",
        "data"
      ],
      "execution_count": null,
      "outputs": []
    },
    {
      "cell_type": "markdown",
      "metadata": {
        "id": "qQPkSEc4saw-"
      },
      "source": [
        "**지역, 온도 리스트 만들기**"
      ]
    },
    {
      "cell_type": "code",
      "metadata": {
        "id": "idFFXqiUP2H0"
      },
      "source": [
        "#  area.append(item[0]), temp.append(int(item[1]))\n",
        "area = []\n",
        "temp = []\n",
        "\n",
        "for line in data:\n",
        "  line = line.replace('\\n','')\n",
        "  item = line.split(',')\n"
      ],
      "execution_count": null,
      "outputs": []
    },
    {
      "cell_type": "code",
      "metadata": {
        "id": "cQmRgyppQM1h",
        "colab": {
          "base_uri": "https://localhost:8080/"
        },
        "outputId": "ea1e3b31-3757-4756-a300-0f3a8179ed53"
      },
      "source": [
        "print(area)"
      ],
      "execution_count": null,
      "outputs": [
        {
          "output_type": "stream",
          "name": "stdout",
          "text": [
            "['서울', '부산', '대구', '인천', '광주', '대전', '울산', '세종', '경기', '강원', '충북', '충남', '전북', '전남', '경북', '경남', '제주']\n"
          ]
        }
      ]
    },
    {
      "cell_type": "code",
      "metadata": {
        "id": "T9iF3ftNQ8if",
        "colab": {
          "base_uri": "https://localhost:8080/",
          "height": 35
        },
        "outputId": "e6cf82fe-0b33-4748-ab63-78ad6282ce28"
      },
      "source": [
        "area[0:5]"
      ],
      "execution_count": null,
      "outputs": [
        {
          "output_type": "execute_result",
          "data": {
            "text/plain": [
              "['서울', '부산', '대구', '인천', '광주']"
            ]
          },
          "metadata": {
            "tags": []
          },
          "execution_count": 65
        }
      ]
    },
    {
      "cell_type": "code",
      "metadata": {
        "id": "hcQmx2SCQSLz",
        "colab": {
          "base_uri": "https://localhost:8080/",
          "height": 35
        },
        "outputId": "2823fed6-0b37-4d14-b3a2-5b791ece966c"
      },
      "source": [
        "print(temp)"
      ],
      "execution_count": null,
      "outputs": [
        {
          "output_type": "stream",
          "text": [
            "[20, 26, 24, 24, 25, 22, 26, 23, 24, 23, 26, 22, 24, 23, 28, 29, 26]\n"
          ],
          "name": "stdout"
        }
      ]
    },
    {
      "cell_type": "code",
      "metadata": {
        "id": "rCSbv8ZQQVyG",
        "colab": {
          "base_uri": "https://localhost:8080/"
        },
        "outputId": "ee760160-7368-4442-b3ec-e0f6a76a2a9c"
      },
      "source": [
        "# 리스트 결합 : zip() dict(zip(area, temp))\n",
        "dt = \n",
        "print(dt)"
      ],
      "execution_count": null,
      "outputs": [
        {
          "output_type": "stream",
          "name": "stdout",
          "text": [
            "{'서울': 20, '부산': 26, '대구': 24, '인천': 24, '광주': 25, '대전': 22, '울산': 26, '세종': 23, '경기': 24, '강원': 23, '충북': 26, '충남': 22, '전북': 24, '전남': 23, '경북': 28, '경남': 29, '제주': 26}\n"
          ]
        }
      ]
    },
    {
      "cell_type": "code",
      "metadata": {
        "id": "ZmR1vdbAQgP0",
        "colab": {
          "base_uri": "https://localhost:8080/",
          "height": 54
        },
        "outputId": "e86b40f4-7ed1-42e6-cca6-2e5b3877cd3c"
      },
      "source": [
        "q = input('지역을 입력하세요 : ')\n",
        "print()"
      ],
      "execution_count": null,
      "outputs": [
        {
          "output_type": "stream",
          "text": [
            "지역을 입력하세요 : 부산\n",
            "26\n"
          ],
          "name": "stdout"
        }
      ]
    },
    {
      "cell_type": "markdown",
      "metadata": {
        "id": "dSfPI9DQQsFZ"
      },
      "source": [
        "##쓰기"
      ]
    },
    {
      "cell_type": "code",
      "metadata": {
        "id": "DVkz0julQvau"
      },
      "source": [
        "#fp.write(area[0])\n",
        "fp = open('지역.txt', 'w', encoding = 'utf-8')\n",
        "\n",
        "fp.close()"
      ],
      "execution_count": null,
      "outputs": []
    },
    {
      "cell_type": "code",
      "metadata": {
        "id": "LDPkn1bBRCNF"
      },
      "source": [
        "#  for item in temp:fp.write(str(item) + '\\n')\n",
        "with open('기온.txt', 'w', encoding = 'utf-8') as fp:\n"
      ],
      "execution_count": null,
      "outputs": []
    },
    {
      "cell_type": "code",
      "metadata": {
        "id": "XzmEih0cRQWM"
      },
      "source": [
        "with open('지역.txt', 'w', encoding = 'utf-8') as fp:\n",
        " "
      ],
      "execution_count": null,
      "outputs": []
    },
    {
      "cell_type": "markdown",
      "metadata": {
        "id": "6mBhzQX5TTi4"
      },
      "source": [
        "부산 3월 기온"
      ]
    },
    {
      "cell_type": "code",
      "metadata": {
        "id": "N3Sz1i2ATQrN",
        "colab": {
          "base_uri": "https://localhost:8080/",
          "height": 283
        },
        "outputId": "ed8fa88b-ecdc-41c3-dfe2-b6107b03e343"
      },
      "source": [
        "# import matplotlib.pyplot as plt\n",
        "#부산 3월 기온\n",
        "temp = [10.8, 8.5, 8.7, 7.9, 5.1, \n",
        "        8.1, 8.2, 10.4, 11, 9.9, \n",
        "        7.8, 9.5, 11.6, 8.2, 7.7, \n",
        "        6.6, 11.1, 12.2, 12.6, 10.4, \n",
        "        13.7, 14.1, 12.6, 11.5, 13, \n",
        "        14.5, 13.7, 9.4, 10.4, 11.6, 12.9]\n",
        "print(f'평균기온 :{sum(temp) / len(temp) : 0.2f} ℃')\n",
        "# plt.plot(temp)\n",
        "# plt.show()"
      ],
      "execution_count": null,
      "outputs": [
        {
          "output_type": "stream",
          "name": "stdout",
          "text": [
            "평균기온 : 10.44 ℃\n"
          ]
        },
        {
          "output_type": "display_data",
          "data": {
            "image/png": "[encoded data removed]",
            "text/plain": [
              "<Figure size 432x288 with 1 Axes>"
            ]
          },
          "metadata": {
            "needs_background": "light"
          }
        }
      ]
    },
    {
      "cell_type": "markdown",
      "metadata": {
        "id": "vm02HaTJefqx"
      },
      "source": [
        "## (해결문제1) 지역평균기온.txt 를 딕션너리로 읽어서 그래프 그리기\n",
        "* 해당지역의 평균기온을 알려주는 프로그램을 추가\n",
        "<p> - 파일읽기, 그래프는 함수로 처리 \n",
        "<p> - 단, 지역입력에 q가 입력되면, 종료후에 그래프 표시\n",
        "\n",
        "\n",
        "\n"
      ]
    },
    {
      "cell_type": "code",
      "metadata": {
        "id": "Go889Tl6RHUE",
        "colab": {
          "base_uri": "https://localhost:8080/"
        },
        "outputId": "6f6aabe0-1a9f-40a3-d403-d80349e11c11"
      },
      "source": [
        "#한글 폰트 사용 : colab , 런타임 다시 시작 하기\n",
        "%config InlineBackend.figure_format = 'retina'\n",
        "!apt -qq -y install fonts-nanum"
      ],
      "execution_count": null,
      "outputs": [
        {
          "output_type": "stream",
          "name": "stdout",
          "text": [
            "fonts-nanum is already the newest version (20170925-1).\n",
            "0 upgraded, 0 newly installed, 0 to remove and 37 not upgraded.\n"
          ]
        }
      ]
    },
    {
      "cell_type": "code",
      "metadata": {
        "id": "BWzqbOKnQ-Yg"
      },
      "source": [
        "#시각화 모듈\n",
        "import matplotlib\n",
        "import matplotlib.pyplot as plt\n",
        "\n",
        "#한글 폰트 사용 : vscode , window\n",
        "import matplotlib as mpl\n",
        "import matplotlib.font_manager as fm\n",
        "fontpath = '/usr/share/fonts/truetype/nanum/NanumBarunGothic.ttf'\n",
        "font = fm.FontProperties(fname=fontpath, size=9)\n",
        "plt.rc('font', family='NanumBarunGothic') \n",
        "mpl.font_manager._rebuild()\n",
        "\n",
        "#마이너스 깨지는 경우 처리\n",
        "matplotlib.rcParams['axes.unicode_minus'] = False \n",
        "\n",
        "#새 창 띄우기(colab에서는 안됨)\n",
        "import matplotlib as tk"
      ],
      "execution_count": null,
      "outputs": []
    },
    {
      "cell_type": "code",
      "metadata": {
        "id": "MvGm50YLknhZ"
      },
      "source": [
        "#파일읽기\n",
        "def readData(fname):\n",
        "   #----------------------------------------------------------------------------\n",
        "   # 매개변수로 파일명만 받으므로 경로를 넣어서 파일을 읽을 수 있도록 변수를 조정\n",
        "   #----------------------------------------------------------------------------  \n",
        "    fname = \"/content/\" + fname\n",
        "    fp = open(fname, 'r', encoding='utf-8')\n",
        "    data = fp.readlines()\n",
        "    fp.close()\n",
        "\n",
        "    return data"
      ],
      "execution_count": null,
      "outputs": []
    },
    {
      "cell_type": "code",
      "metadata": {
        "id": "DbHsgi2Y8vd_"
      },
      "source": [
        "data = readData('지역평균기온.txt')\n",
        "data"
      ],
      "execution_count": null,
      "outputs": []
    },
    {
      "cell_type": "code",
      "metadata": {
        "id": "fTrg0943hSPt"
      },
      "source": [
        "#------------------------------------------------------------------------------- \n",
        "# 파일로 읽은 데이터 -> 딕션너리로 분리\n",
        "#-------------------------------------------------------------------------------\n",
        "def showdt(indata):\n",
        "    dt = {}\n"
      ],
      "execution_count": null,
      "outputs": []
    },
    {
      "cell_type": "code",
      "metadata": {
        "id": "NlMWduDrlEcZ"
      },
      "source": [
        "dt = showdt(data)\n",
        "dt"
      ],
      "execution_count": null,
      "outputs": []
    },
    {
      "cell_type": "code",
      "metadata": {
        "id": "axywSisIOrN0"
      },
      "source": [
        "#------------------------------------------------------------------------------- \n",
        "# 딕션너리의 데이터를 이용해서 그래프 그리기\n",
        "# 그래프 파일로 저장하는 코드 추가\n",
        "#-------------------------------------------------------------------------------\n",
        "def show(dt):\n",
        "    #import matplotlib.pyplot as plt\n",
        "    #plt.figure(figsize=(10, 5))\n",
        "    \n",
        "    x = list(dt.keys())\n",
        "    y = \n",
        "\n",
        "    # plt.plot(x,y,'go--', color='skyblue')\n",
        "    # plt.title('지역평균기온')\n",
        "    # plt.xticks(rotation=0)\n",
        "    # plt.draw() \n",
        "    \n",
        "    # fig = plt.gcf()\n",
        "    # fig.savefig('/content/myfile.png', dpi=fig.dpi)"
      ],
      "execution_count": null,
      "outputs": []
    },
    {
      "cell_type": "code",
      "metadata": {
        "id": "1yQPEV5RgfNc",
        "colab": {
          "base_uri": "https://localhost:8080/",
          "height": 391
        },
        "outputId": "62767307-e84e-40de-9170-449c594f7d1d"
      },
      "source": [
        "#------------------------------------------------------------------------------- \n",
        "# 각 모듈을 함수로 만들고 메인을 작성하여 사용\n",
        "# 해당 지역 평균 기온 알려주는 코드 추가\n",
        "#-------------------------------------------------------------------------------\n",
        "if __name__ == \"__main__\":\n",
        "    data = readData('지역평균기온.txt')\n",
        "    dt = showdt(data)\n",
        "    print(dt)\n",
        "    while True :\n",
        "\n",
        "\n",
        "\n",
        "    show(dt)\n",
        "  "
      ],
      "execution_count": null,
      "outputs": [
        {
          "name": "stdout",
          "output_type": "stream",
          "text": [
            "{'서울': 20, '부산': 26, '대구': 24, '인천': 24, '광주': 25, '대전': 22, '울산': 26, '세종': 23, '경기': 24, '강원': 23, '충북': 26, '충남': 22, '전북': 24, '전남': 23, '경북': 28, '경남': 29, '제주': 26}\n",
            "지역을 입력하세요 : q\n"
          ]
        },
        {
          "output_type": "display_data",
          "data": {
            "image/png": "[encoded data removed]",
            "text/plain": [
              "<Figure size 720x360 with 1 Axes>"
            ]
          },
          "metadata": {
            "needs_background": "light"
          }
        }
      ]
    },
    {
      "cell_type": "code",
      "metadata": {
        "id": "HjHNgefHepOQ"
      },
      "source": [
        "# 나눔 글꼴 설치 # 설치후 런타임 재실행\n",
        "!sudo apt-get install -y fonts-nanum\n",
        "!sudo fc-cache -fv\n",
        "!rm ~/.cache/matplotlib -rf"
      ],
      "execution_count": null,
      "outputs": []
    },
    {
      "cell_type": "code",
      "metadata": {
        "id": "kPq67jXxevPM"
      },
      "source": [
        "import matplotlib.pyplot as plt\n",
        "plt.rc('font', family='NanumBarunGothic')"
      ],
      "execution_count": null,
      "outputs": []
    }
  ]
}