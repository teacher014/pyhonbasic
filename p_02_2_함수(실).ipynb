{
  "nbformat": 4,
  "nbformat_minor": 0,
  "metadata": {
    "colab": {
      "name": "p_02_2_함수(실).ipynb",
      "provenance": [],
      "collapsed_sections": [],
      "toc_visible": true,
      "include_colab_link": true
    },
    "kernelspec": {
      "name": "python3",
      "display_name": "Python 3"
    }
  },
  "cells": [
    {
      "cell_type": "markdown",
      "metadata": {
        "id": "view-in-github",
        "colab_type": "text"
      },
      "source": [
        "<a href=\"https://colab.research.google.com/github/teacher014/pythonbasic/blob/main/p_02_2_%ED%95%A8%EC%88%98(%EC%8B%A4).ipynb\" target=\"_parent\"><img src=\"https://colab.research.google.com/assets/colab-badge.svg\" alt=\"Open In Colab\"/></a>"
      ]
    },
    {
      "cell_type": "markdown",
      "metadata": {
        "id": "0jP9qIT_TY3s"
      },
      "source": [
        "# 함수(Function)\n",
        "+ 특정 기능을 하나로 묶어서 따로 관리하기 위해 사용\n",
        " - 반복되는 내용을 효율적으로 처리\n",
        " - 코드의 가독성을 높임\n",
        "\n",
        "+ 함수의 종류\n",
        " - 내장함수 : 파이썬에서 기본으로 제공하는 함수\n",
        " - 모듈함수 : import를 해서 가져다가 사용할 수 있는 함수\n",
        " - 사용자정의함수 : 사용자가 함수를 직접 정의해서 사용하는 함수"
      ]
    },
    {
      "cell_type": "markdown",
      "metadata": {
        "id": "qYXu9tVQUIOz"
      },
      "source": [
        "## **표준(내장)함수**(Built-In Function)\n",
        "https://docs.python.org/ko/3/library/functions.html\n",
        "\n",
        "+ **abs(x)** :어떤 숫자를 입력으로 받았을 때, 그 숫자의 절대값을 돌려주는 함수: abs(-1) \n",
        "+ **divmod(a, b)** :a를 b로 나눈 몫과 나머지를 튜플형태로 리턴하는함수:divmod(10, 3) \n",
        "=> (3, 1)\n",
        "+ **float(x)** :데이터를 실수로 변환:\n",
        "+ **int(x)** :문자열 형태의 숫자나 소수점이 있는 숫자 등을 정수 형태로 변환:\n",
        "+ **len(s)** :입력값s의 길이(요소의 전체 개수)를 리턴하는함수:len(\"python\"), len([1,2,3])\n",
        "+ **max(iterable)** :인수로 반복 가능한 자료형을입력받아그 최대값을 리턴하는함수:max([1, 2, 3]) , max(\"python\")\n",
        "+ **min(iterable)** :인수로 반복 가능한 자료형을입력받아그 최소값을 리턴하는함수:min([1, 2, 3]), min(\"python\")\n",
        "+ **pow(x, y)** :x의 y 제곱한 결과값을 리턴하는함수:\n",
        "+ **round(n[,nd])** :숫자를 입력받아반올림 해 주는 함수:\n",
        "+ **sorted(iterable)**:입력값을정렬한 후 그 결과를 리스트로 리턴하는함수:\n",
        "+ **str(object)** :문자열 형태로 객체를 변환하여 리턴하는함수:\n",
        "+ **sum(iterable)** :입력으로 받은 리스트나 튜플의모든 요소의 합을 리턴하는함수:\n"
      ]
    },
    {
      "cell_type": "markdown",
      "metadata": {
        "id": "m_sJzFK6Vnq4"
      },
      "source": [
        "## **사용자 정의 함수**\n",
        "### **사용자 정의 함수 구조**\n",
        "<img src = https://camo.githubusercontent.com/a97ecd93ec41f26c2e0e2d719d87e55511dd5b90/68747470733a2f2f6769746875622e636f6d2f746561636865722d6a69656a69652f616c6c696e6f6e655f41492f626c6f622f696d616765732f3131335f2545432538322541432545432539412541392545432539452539302545432541302539352545432539442539382545442539352541382545432538382539385f2545432539442542382545432539452539302e706e673f7261773d74727565 width=500>\n",
        "\n",
        "### **사용자 정의 함수 호출**\n",
        "<img src = https://camo.githubusercontent.com/10c6647c2276f4ce38507663e69d43ece133904b/68747470733a2f2f6769746875622e636f6d2f746561636865722d6a69656a69652f616c6c696e6f6e655f41492f626c6f622f696d616765732f3131325f2545432538322541432545432539412541392545432539452539302545432541302539352545432539442539382545442539352541382545432538382539382e706e673f7261773d74727565 width=500>"
      ]
    },
    {
      "cell_type": "code",
      "metadata": {
        "colab": {
          "base_uri": "https://localhost:8080/"
        },
        "id": "RV2v_OJmp2CL",
        "outputId": "e7e110bb-676e-49c5-9c54-2900f9b2801d"
      },
      "source": [
        "def hi():\n",
        "  print('hi')\n",
        "\n",
        "hi()"
      ],
      "execution_count": null,
      "outputs": [
        {
          "output_type": "stream",
          "name": "stdout",
          "text": [
            "hi\n"
          ]
        }
      ]
    },
    {
      "cell_type": "code",
      "metadata": {
        "colab": {
          "base_uri": "https://localhost:8080/"
        },
        "id": "m7nYo09cozIp",
        "outputId": "d3a5040c-fb98-461b-f751-f1039a95fd04"
      },
      "source": [
        "# 두 정수 입력, 합 반환 함수\n",
        "def add(a,b):\n"
      ],
      "execution_count": null,
      "outputs": [
        {
          "output_type": "stream",
          "name": "stdout",
          "text": [
            "7\n"
          ]
        }
      ]
    },
    {
      "cell_type": "code",
      "metadata": {
        "id": "zs-jl0EclDgA"
      },
      "source": [
        "#내장함수와 이름이 같은 사용자 정의 함수 사용가능, 사용자 정의 함수가 우선 호출됨\n",
        "# def input(s):\n",
        "#   print(s)\n",
        "# input('input')"
      ],
      "execution_count": null,
      "outputs": []
    },
    {
      "cell_type": "markdown",
      "metadata": {
        "id": "bdTQlTIyvUgM"
      },
      "source": [
        "# **🎲 : ⚀ ⚁ ⚂ ⚃ ⚄ ⚅ / Dice**"
      ]
    },
    {
      "cell_type": "markdown",
      "metadata": {
        "id": "Us6HUpOmmXdB"
      },
      "source": [
        "###1. 매개변수가 없는 함수"
      ]
    },
    {
      "cell_type": "code",
      "metadata": {
        "id": "pGifEM4MmOcI"
      },
      "source": [
        "# 주사위 프로그램\n",
        "import random\n"
      ],
      "execution_count": null,
      "outputs": []
    },
    {
      "cell_type": "code",
      "metadata": {
        "id": "mtzoKh2InwG7"
      },
      "source": [
        "#함수 사용\n",
        "import random\n"
      ],
      "execution_count": null,
      "outputs": []
    },
    {
      "cell_type": "markdown",
      "metadata": {
        "id": "8Vr_FCqQ7gII"
      },
      "source": [
        "**유니코드**\n",
        "\n",
        "\n",
        "*  https://unicodemap.org/range/55/Miscellaneous%20Symbols/\n",
        "*  https://www.hexadecimaldictionary.com/hexadecimal/0x2680/\n",
        "\n",
        "\n",
        "\n"
      ]
    },
    {
      "cell_type": "code",
      "metadata": {
        "colab": {
          "base_uri": "https://localhost:8080/"
        },
        "id": "v-cEV6ahygqy",
        "outputId": "7a8d9d63-e4cc-41c8-8cb6-6651f06d3ea1"
      },
      "source": [
        "print('\\u0061') #a #'\\u유니코드숫자'\n",
        "print('\\uac00')"
      ],
      "execution_count": null,
      "outputs": [
        {
          "output_type": "stream",
          "name": "stdout",
          "text": [
            "a\n",
            "가\n"
          ]
        }
      ]
    },
    {
      "cell_type": "code",
      "metadata": {
        "id": "D967CcCh-LEr"
      },
      "source": [
        "# 한글 https://unicodemap.org/range/74/Hangul_Syllables/\n",
        "# 0 ~ 65535까지 유니코드 출력하기\n",
        " \n",
        "for i in range():\n",
        "    if i % 15 == 0:print()\n",
        "    "
      ],
      "execution_count": null,
      "outputs": []
    },
    {
      "cell_type": "code",
      "metadata": {
        "colab": {
          "base_uri": "https://localhost:8080/"
        },
        "id": "SyLgLSgy-zgZ",
        "outputId": "31f4fa59-6df2-467c-d41f-131ec39ab9cc"
      },
      "source": [
        "#총 몇 글자?\n",
        "print(0xd7a4 - 0xac00)"
      ],
      "execution_count": null,
      "outputs": [
        {
          "output_type": "stream",
          "name": "stdout",
          "text": [
            "11172\n"
          ]
        }
      ]
    },
    {
      "cell_type": "code",
      "metadata": {
        "colab": {
          "base_uri": "https://localhost:8080/"
        },
        "id": "k_WpCawm8ygK",
        "outputId": "bb21e6f5-907b-4db1-cc6e-455218c34bf8"
      },
      "source": [
        "print('\\u2680')"
      ],
      "execution_count": null,
      "outputs": [
        {
          "output_type": "stream",
          "name": "stdout",
          "text": [
            "⚀\n"
          ]
        }
      ]
    },
    {
      "cell_type": "code",
      "metadata": {
        "colab": {
          "base_uri": "https://localhost:8080/"
        },
        "id": "k_C75V7nxmd8",
        "outputId": "6aec0a83-be48-4879-cdaa-feab0e9810b1"
      },
      "source": [
        "#U+2680 to U+2685 \n",
        "import random\n",
        "\n",
        "def rolling():\n",
        "    n = random.randint(0x2680, 0x2685)\n",
        "    for i in range(0x2680, ):\n",
        "        if i == n:print(i, chr(i))\n",
        "rolling()"
      ],
      "execution_count": null,
      "outputs": [
        {
          "output_type": "stream",
          "name": "stdout",
          "text": [
            "3 ⚂\n"
          ]
        }
      ]
    },
    {
      "cell_type": "code",
      "metadata": {
        "colab": {
          "base_uri": "https://localhost:8080/"
        },
        "id": "A9u9wloBzPzR",
        "outputId": "713ea9fe-b2ac-488e-df3a-d09600812bf2"
      },
      "source": [
        "import random\n",
        "\n",
        "n = random.randint(0x2680, 0x2685)\n",
        "print(n)\n",
        "for i in range(0x2680, 0x2685):\n",
        "  if i == n:print(i, chr(i), end=' ')"
      ],
      "execution_count": null,
      "outputs": [
        {
          "output_type": "stream",
          "name": "stdout",
          "text": [
            "9858\n",
            "9858 ⚂ "
          ]
        }
      ]
    },
    {
      "cell_type": "markdown",
      "metadata": {
        "id": "p3bUkfH-oSHJ"
      },
      "source": [
        "###2. 매개변수가 있는 함수\n",
        "\n",
        "함수호출시 필요한 값을 넘겨서 사용하게 되는데,<br>\n",
        "함수호출시점에서 변수를 '인자'라고 하며,<br>\n",
        "호출된 함수에서는 넘겨진 변수를 '매개 변수'라고 한다."
      ]
    },
    {
      "cell_type": "markdown",
      "metadata": {
        "id": "MQRLiS7AvpIA"
      },
      "source": [
        "<img src = https://ww.namu.la/s/778b36189158e97a1c12a99b95c9e45ea82a7a686f9e7e8c22b2eebfc59630e369b4dd7c937db31285b41d8102eeb9b30608caf134dc3e89ff2cb91bd3b2f1f3dfc59aa9ddee169b01fb79966967f997b8a3e4a1ca5d042f2bc61e5850eee7cf width=200>"
      ]
    },
    {
      "cell_type": "code",
      "metadata": {
        "colab": {
          "base_uri": "https://localhost:8080/"
        },
        "id": "WVxHOrlouqHN",
        "outputId": "b31b5a2c-028f-4054-e423-ca9683300d14"
      },
      "source": [
        "#매개변수 1개 : 주사위 눈 수 조정 rolling_dice(num) 예) 4면, 6면, 8면, 10면, 12면, 20면 주사위\n",
        "import random\n",
        "\n",
        "def rolling_dice(num):\n",
        "  n = random.randint(1, num)\n",
        "  print(f'd{num}:{n}', end=' | ')\n",
        "\n",
        "#1\n",
        "rolling_dice(random.randint(3,31))\n",
        "#all\n",
        "# for i in range(3,31):\n",
        "#   rolling_dice(i)  "
      ],
      "execution_count": null,
      "outputs": [
        {
          "output_type": "stream",
          "name": "stdout",
          "text": [
            "d16:11|d3:1|d4:2|d5:2|d6:2|d7:7|d8:2|d9:6|d10:1|d11:11|d12:12|d13:4|d14:9|d15:1|d16:13|d17:8|d18:2|d19:12|d20:20|d21:8|d22:19|d23:15|d24:19|d25:9|d26:3|d27:20|d28:26|d29:9|d30:20|"
          ]
        }
      ]
    },
    {
      "cell_type": "code",
      "metadata": {
        "colab": {
          "base_uri": "https://localhost:8080/"
        },
        "id": "MMu4jkEvDDQR",
        "outputId": "5ad91387-7dba-47d9-e443-45a92e33c3fb"
      },
      "source": [
        "#매개변수 2개 : 주사위 반복횟수 rolling_dice(num, repeat) 예) 4면, 10회\n",
        "import random\n",
        "def rolling_dice():\n",
        "  for i in range(1, ):\n",
        "    n = random.randint()\n",
        "    print(f'd{num} 반복:{i}회 결과:{n}')\n",
        "\n",
        "rolling_dice(12,10)"
      ],
      "execution_count": null,
      "outputs": [
        {
          "output_type": "stream",
          "name": "stdout",
          "text": [
            "d12 반복:1회 결과:12\n",
            "d12 반복:2회 결과:9\n",
            "d12 반복:3회 결과:1\n",
            "d12 반복:4회 결과:3\n",
            "d12 반복:5회 결과:10\n",
            "d12 반복:6회 결과:8\n",
            "d12 반복:7회 결과:10\n",
            "d12 반복:8회 결과:12\n",
            "d12 반복:9회 결과:5\n",
            "d12 반복:10회 결과:7\n"
          ]
        }
      ]
    },
    {
      "cell_type": "code",
      "metadata": {
        "colab": {
          "base_uri": "https://localhost:8080/"
        },
        "id": "tHPMY4uVUDm9",
        "outputId": "a16bbc83-0205-4ec2-b6e1-de07c76a16e5"
      },
      "source": [
        "# 매개변수 여러개일 때(가변 매개변수:arbitrary argument list, 예)*매개변수명\n",
        "# 매개변수는 튜플형태로 함수로 전달됨\n",
        "def sum():\n",
        "  sum = 0\n",
        "  for number in numbers:\n",
        "    sum = sum + number\n",
        "  return sum\n",
        "\n",
        "print(sum(1,3))\n",
        "print(sum(1,2,3,4,5))"
      ],
      "execution_count": null,
      "outputs": [
        {
          "output_type": "stream",
          "name": "stdout",
          "text": [
            "4\n",
            "15\n"
          ]
        }
      ]
    },
    {
      "cell_type": "code",
      "metadata": {
        "colab": {
          "base_uri": "https://localhost:8080/"
        },
        "id": "GspVWgXeWqrE",
        "outputId": "e3cf3f40-4181-40a3-cb95-61eb045d51f1"
      },
      "source": [
        "# **매개변수(딕셔너리 형식), 함수 호출시 딕셔너리 형식 키=값 사용\n",
        "def dic_f():\n",
        "  for i in members.keys():\n",
        "    print(i, )\n",
        "\n",
        "dic_f(bts=7, blackpink=4, twice=9)"
      ],
      "execution_count": null,
      "outputs": [
        {
          "output_type": "stream",
          "name": "stdout",
          "text": [
            "bts 7\n",
            "blackpink 4\n",
            "twice 9\n"
          ]
        }
      ]
    },
    {
      "cell_type": "markdown",
      "metadata": {
        "id": "C2q5u1EWH_UT"
      },
      "source": [
        "(실습문제) 단을 입력하면 해당단의 결과를 출력하는 프로그램"
      ]
    },
    {
      "cell_type": "code",
      "metadata": {
        "id": "rY3YxQ7VGxi-"
      },
      "source": [
        "def gugu():\n",
        "  for i in range(1,10):\n",
        "    print(f'{dan} x {i} = {dan*i}')\n"
      ],
      "execution_count": null,
      "outputs": []
    },
    {
      "cell_type": "markdown",
      "metadata": {
        "id": "EkyifcnWObxa"
      },
      "source": [
        "##함수의 반환값\n",
        "- 리턴값이 여러개일때"
      ]
    },
    {
      "cell_type": "markdown",
      "metadata": {
        "id": "ExYPXjWXaNrk"
      },
      "source": [
        "(실습문제) 이름을 입력받아 성과 이름을 나누어 리턴하는 함수"
      ]
    },
    {
      "cell_type": "code",
      "metadata": {
        "colab": {
          "base_uri": "https://localhost:8080/"
        },
        "id": "i7PnelBNX-7w",
        "outputId": "650a245f-e888-44d6-fe41-e8d0c7c21e0f"
      },
      "source": [
        "# 반환값이 여러개일 때\n",
        "def div_name1(name):\n",
        "  return name[0], name[]\n",
        "\n",
        "def div_name2(name):\n",
        "  return \n",
        "\n",
        "print(div_name2('홍길동'))"
      ],
      "execution_count": null,
      "outputs": [
        {
          "output_type": "stream",
          "name": "stdout",
          "text": [
            "('홍', '길동')\n"
          ]
        }
      ]
    },
    {
      "cell_type": "markdown",
      "metadata": {
        "id": "HZ5ZwgMKZC8P"
      },
      "source": [
        "(실습문제) 주사위 눈의 수(num)와 주사위를 굴릴 반복횟수(repeat)를 매개변수로 받고, 결과로 나온 주사위 수들을 리스트로 리턴하는 함수\n",
        "\n",
        "```\n",
        "dice_list(num, repeat)\n",
        "```\n"
      ]
    },
    {
      "cell_type": "code",
      "metadata": {
        "colab": {
          "base_uri": "https://localhost:8080/"
        },
        "id": "ux9rsqA3YdVV",
        "outputId": "f24bf04e-ae1f-405d-d265-4408379f5cd5"
      },
      "source": [
        "import random\n",
        "def dice_list(,):\n",
        "  result = \n",
        "  for i in range(1, repeat+1):\n",
        "    n = random.randint(1, num)\n",
        "    \n",
        "  return \n",
        "print(dice_list(6,6))"
      ],
      "execution_count": null,
      "outputs": [
        {
          "output_type": "stream",
          "name": "stdout",
          "text": [
            "[4, 3, 2, 6, 3, 3]\n"
          ]
        }
      ]
    },
    {
      "cell_type": "markdown",
      "metadata": {
        "id": "WtKvMmpkbSVP"
      },
      "source": [
        "(실습문제) def(17, 1, 200) 1~200사이 17의 배수 출력하는 함수"
      ]
    },
    {
      "cell_type": "code",
      "metadata": {
        "colab": {
          "base_uri": "https://localhost:8080/"
        },
        "id": "Hm-XXq7Xaxef",
        "outputId": "0a4244dc-5c87-4051-d66d-b7492ade57be"
      },
      "source": [
        "# def multi(17, 1, 200): 1~200사이, 17의 배수 출력 \n",
        "\n",
        "def multi(num, start, end):\n",
        "  result = []\n",
        "  for i in range(start, end+1):\n",
        "    if :\n",
        "      result.\n",
        "  return result\n",
        "  \n",
        "print(multi(17, 1, 200))\n",
        "print(multi(3,1,12))"
      ],
      "execution_count": null,
      "outputs": [
        {
          "output_type": "stream",
          "name": "stdout",
          "text": [
            "[17, 34, 51, 68, 85, 102, 119, 136, 153, 170, 187]\n",
            "[3, 6, 9, 12]\n"
          ]
        }
      ]
    },
    {
      "cell_type": "markdown",
      "metadata": {
        "id": "LDi_dzauNg-m"
      },
      "source": [
        "## 지역, 전역변수\n",
        "* 지역(Local)변수 : 집(함수) 안에서만 사용하는 변수\n",
        "* 전역(Global)변수 : 집(함수) 밖에서도 사용할 수 있는 변수"
      ]
    },
    {
      "cell_type": "code",
      "metadata": {
        "id": "Hkng2AA4QO_K"
      },
      "source": [
        "# 전역변수\n",
        "#a = 20\n",
        "\n",
        "# 지역변수\n",
        "def f1():\n",
        "  a = 10 # 지역변수\n",
        "  print('f1', a)\n",
        "\n",
        "def f2():\n",
        "  print('f2', a)\n",
        "\n",
        "f1()\n",
        "f2()"
      ],
      "execution_count": null,
      "outputs": []
    },
    {
      "cell_type": "code",
      "metadata": {
        "colab": {
          "base_uri": "https://localhost:8080/"
        },
        "id": "Vpzyn3lKRSWp",
        "outputId": "005a5d35-60ba-4395-8a72-faca18fb0c8d"
      },
      "source": [
        "#global 예약어 : 언제든지 어떤 곳에서든지 변수를 전역변수로 변경, 프로그램 종료시까지 메모리에 남아있음\n",
        "a = 20\n",
        "\n",
        "def f1():\n",
        "  global a\n",
        "  a = 10\n",
        "  print('f1()', a)\n",
        "\n",
        "def f2():\n",
        "  print('f2()', a)\n",
        "\n",
        "f1()\n",
        "f2()"
      ],
      "execution_count": null,
      "outputs": [
        {
          "output_type": "stream",
          "name": "stdout",
          "text": [
            "f1() 10\n",
            "f2() 10\n"
          ]
        }
      ]
    },
    {
      "cell_type": "markdown",
      "metadata": {
        "id": "BxphnNkHrYRR"
      },
      "source": [
        "**parameter**<br>\n",
        "스크립트 파일이 메인 프로그램으로 사용될 때와 모듈로 사용될 때를 구분하기 위한 용도\n",
        "```\n",
        "if __name__ == '__main__':\n",
        "```\n",
        "\n",
        "\n",
        "\n",
        "\n"
      ]
    },
    {
      "cell_type": "markdown",
      "metadata": {
        "id": "EFEoh4EEipkj"
      },
      "source": [
        "##(해결문제1) 사칙연산 프로그램\n",
        "\n",
        "`cal(num1,num2,op)`\n",
        "```\n",
        "(출력)\n",
        "숫자를 입력하세요.5\n",
        "숫자를 입력하세요.6\n",
        "연산자를 입력하세요.+\n",
        "5 + 6 = 11\n",
        "```\n",
        "\n",
        "\n"
      ]
    },
    {
      "cell_type": "code",
      "metadata": {
        "id": "plkTb_13dH_r",
        "colab": {
          "base_uri": "https://localhost:8080/"
        },
        "outputId": "00ddb647-ada2-4845-a7e0-cf67510152fb"
      },
      "source": [
        "def cal(num1, num2, op) :\n",
        "    ans = 0\n",
        "    if op == '+' : ans = num1 + num2 \n",
        "  \n",
        "    \n",
        " "
      ],
      "execution_count": null,
      "outputs": [
        {
          "output_type": "stream",
          "name": "stdout",
          "text": [
            "숫자를 입력하세요.5\n",
            "숫자를 입력하세요.6\n",
            "연산자를 입력하세요.+\n",
            "5 + 6 = 11\n"
          ]
        }
      ]
    },
    {
      "cell_type": "markdown",
      "metadata": {
        "id": "Kc1euy9fjHVK"
      },
      "source": [
        "##(해결문제2) BMI 계산기 프로그램\n",
        "- 표준체중과 BMI 지수, BMI에 따른 비만 여부를 판단하는 프로그램\n",
        "---\n",
        "+ 입력 \n",
        " - 체중(kg), 키(cm), 남녀(남1, 여2)\n",
        "+ 판단기준\n",
        " - 18.5 미만 : 저체중(Underweight)\n",
        " - 18.5이상 25미만 : 정상(Normal range)\n",
        " - 25이상 : 비만(Overweight)\n",
        "+ 표준체중, BMI지수, 비만판단은 함수로 작성\n",
        "+ 표준체중 = 키(m) x 키(m) x BMI(여자 21, 남자 22)\n",
        "+ BMI = 체중(kg) / (키(m) x키(m)) \n",
        "---\n",
        "\n",
        "```\n",
        "(출력)\n",
        "체중: 70\n",
        "키: 180\n",
        "성별(남:1, 여:2):1\n",
        "------------------------------\n",
        "표준체중(남): 71.28 kg\n",
        "체질량지수(BMI) : 21.60\n",
        "정상(Normal range)\n",
        "```\n",
        "\n",
        "\n",
        "\n"
      ]
    },
    {
      "cell_type": "code",
      "metadata": {
        "id": "D_cV1qZLVyFv",
        "colab": {
          "base_uri": "https://localhost:8080/",
          "height": 145
        },
        "outputId": "b4e18fae-6103-452f-a221-7e381811835d"
      },
      "source": [
        "weight = eval(input('체중: '))\n",
        "height_cm = eval(input('키: '))\n",
        "height_m = height_cm / 100\n",
        "gender = eval(input('성별(남:1, 여:2):'))\n",
        "\n",
        "bmi = weight / (height_m**2) \n",
        "\n",
        "print('-'*30)\n",
        "\n",
        "def std_weight(gender):\n",
        "    if gender == 1:\n",
        "        std = \n",
        "        print(f'표준체중(남): {std:.2f} kg')\n",
        "    else:\n",
        "        std = height_m**2*21\n",
        "        print(f'표준체중(여): {std:.2f} kg')\n",
        "    return std\n",
        "        \n",
        "def check(bmi):\n",
        "    if bmi < 18.5:\n",
        "        print('저체중(Underweight)')       \n",
        "    \n",
        "\n",
        "    \n",
        "\n",
        "std_weight(gender)\n",
        "print(f'체질량지수(BMI) : {bmi:.2f}')\n",
        "check(bmi) "
      ],
      "execution_count": null,
      "outputs": [
        {
          "output_type": "stream",
          "text": [
            "체중: 70\n",
            "키: 180\n",
            "성별(남:1, 여:2):1\n",
            "------------------------------\n",
            "표준체중(남): 71.28 kg\n",
            "체질량지수(BMI) : 21.60\n",
            "정상(Normal range)\n"
          ],
          "name": "stdout"
        }
      ]
    },
    {
      "cell_type": "markdown",
      "metadata": {
        "id": "9x1tE4gCciXp"
      },
      "source": [
        "##(해결문제3) 자리 배치 프로그램"
      ]
    },
    {
      "cell_type": "code",
      "metadata": {
        "id": "DTalFWNIcmbO",
        "colab": {
          "base_uri": "https://localhost:8080/"
        },
        "outputId": "9ea0b137-adbe-4614-b667-0713b41a8885"
      },
      "source": [
        "#random.shuffle()활용\n",
        "import random\n",
        "\n",
        "def position(num, col):\n",
        "  st = list(range(1, num+1))\n",
        "  random.shuffle(st)\n",
        "  pos=''\n",
        "  for i in range(0, num):\n",
        "    pos = pos +        + '\\t'\n",
        "    if              : pos = pos + '\\n'\n",
        "  print(pos)\n",
        "\n",
        "position(20, 5)\n",
        "position(16, 4)"
      ],
      "execution_count": null,
      "outputs": [
        {
          "output_type": "stream",
          "name": "stdout",
          "text": [
            "8\t4\t7\t13\t3\t\n",
            "11\t15\t16\t10\t1\t\n",
            "12\t2\t19\t9\t20\t\n",
            "5\t14\t6\t18\t17\t\n",
            "\n",
            "14\t12\t6\t11\t\n",
            "3\t9\t7\t4\t\n",
            "8\t13\t1\t16\t\n",
            "5\t10\t2\t15\t\n",
            "\n"
          ]
        }
      ]
    },
    {
      "cell_type": "markdown",
      "metadata": {
        "id": "gDmbNYx1fptN"
      },
      "source": [
        "##(해결문제4) 로또 번호 추첨 <br>\n",
        "<img src = https://img.etoday.co.kr/pto_db/2021/09/600/20210911211633_1665401_645_220.jpg width=400>"
      ]
    },
    {
      "cell_type": "code",
      "metadata": {
        "colab": {
          "base_uri": "https://localhost:8080/"
        },
        "id": "TVuUSfznfvsg",
        "outputId": "57d43097-0fed-48f4-c4c5-9bc7fefdaa04"
      },
      "source": [
        "import random\n",
        "\n",
        "def get_num():\n",
        "  return random.randrange(1,46)\n",
        "\n",
        "lotto = []\n",
        "num = 0\n",
        "\n",
        "print('--999회 로또 추첨--')\n",
        "while True:\n",
        "  num = get_num()\n",
        "\n",
        "\n",
        "\n",
        "\n",
        "\n",
        "print('로또 당첨번호 : ', end = '\\t')\n",
        "lotto.sort()\n",
        "\n",
        "\n"
      ],
      "execution_count": null,
      "outputs": [
        {
          "output_type": "stream",
          "name": "stdout",
          "text": [
            "--999회 로또 추첨--\n",
            "로또 당첨번호 : \t5 6 10 13 27 36 "
          ]
        }
      ]
    }
  ]
}