{
  "nbformat": 4,
  "nbformat_minor": 0,
  "metadata": {
    "colab": {
      "name": "(실)별찍기 연습문제.ipynb",
      "provenance": [],
      "collapsed_sections": [],
      "authorship_tag": "ABX9TyO/DpkEXwIOIOgVGwf26beQ",
      "include_colab_link": true
    },
    "kernelspec": {
      "name": "python3",
      "display_name": "Python 3"
    },
    "language_info": {
      "name": "python"
    }
  },
  "cells": [
    {
      "cell_type": "markdown",
      "metadata": {
        "id": "view-in-github",
        "colab_type": "text"
      },
      "source": [
        "<a href=\"https://colab.research.google.com/github/teacher014/pyhonbasic/blob/main/(%EC%8B%A4)%EB%B3%84%EC%B0%8D%EA%B8%B0_%EC%97%B0%EC%8A%B5%EB%AC%B8%EC%A0%9C.ipynb\" target=\"_parent\"><img src=\"https://colab.research.google.com/assets/colab-badge.svg\" alt=\"Open In Colab\"/></a>"
      ]
    },
    {
      "cell_type": "code",
      "metadata": {
        "id": "kVNNWd1e7YLI",
        "colab": {
          "base_uri": "https://localhost:8080/"
        },
        "outputId": "ce675506-f875-4cdf-8b7a-d63aedd5510e"
      },
      "source": [
        "star = '\\u2605'\n",
        "print(star)"
      ],
      "execution_count": null,
      "outputs": [
        {
          "output_type": "stream",
          "name": "stdout",
          "text": [
            "★\n"
          ]
        }
      ]
    },
    {
      "cell_type": "markdown",
      "metadata": {
        "id": "3JPN1noaFN5t"
      },
      "source": [
        "## 백준 별찍기 2438~2446\n",
        "\n",
        "https://www.acmicpc.net/problemset?search=%EB%B3%84\n"
      ]
    },
    {
      "cell_type": "code",
      "metadata": {
        "id": "cgtE2suq1z4u",
        "colab": {
          "base_uri": "https://localhost:8080/"
        },
        "outputId": "254390e6-a9a0-42ea-d365-7013ee6441f1"
      },
      "source": [
        "#1. 백준 2438번 별 찍기1 파이썬 www.acmicpc.net/problem/2438\n",
        "for i in range(int(input())): print(\"*\"*(i+1))"
      ],
      "execution_count": null,
      "outputs": [
        {
          "output_type": "stream",
          "name": "stdout",
          "text": [
            "5\n",
            "*\n",
            "**\n",
            "***\n",
            "****\n",
            "*****\n"
          ]
        }
      ]
    },
    {
      "cell_type": "code",
      "metadata": {
        "colab": {
          "base_uri": "https://localhost:8080/"
        },
        "id": "Av7u8eCrFQPn",
        "outputId": "db041a2b-e68e-457d-f3a8-d40cc244b555"
      },
      "source": [
        "#2. 백준 2439번 별찍기2 파이썬 www.acmicpc.net/problem/2439\n",
        "n = int(input()) \n",
        "for i in range(1, n+1): print(\" \"*(n-i)+\"*\"*i)"
      ],
      "execution_count": null,
      "outputs": [
        {
          "output_type": "stream",
          "name": "stdout",
          "text": [
            "5\n",
            "    *\n",
            "   **\n",
            "  ***\n",
            " ****\n",
            "*****\n"
          ]
        }
      ]
    },
    {
      "cell_type": "code",
      "metadata": {
        "id": "FQG3wAzQFeAZ"
      },
      "source": [
        "#3. 백준 2440번 별찍기3 파이썬 www.acmicpc.net/problem/2440\n"
      ],
      "execution_count": null,
      "outputs": []
    },
    {
      "cell_type": "code",
      "metadata": {
        "id": "ABJOjQ5iHkPr"
      },
      "source": [
        "#4. 백준 2441번 별찍기4 파이썬 www.acmicpc.net/problem/2441\n"
      ],
      "execution_count": null,
      "outputs": []
    },
    {
      "cell_type": "code",
      "metadata": {
        "colab": {
          "base_uri": "https://localhost:8080/"
        },
        "id": "BW7uGFeDHudu",
        "outputId": "7e5a7d73-8615-48b6-8e0e-485b7fe7a5fd"
      },
      "source": [
        "#5. 백준 2442번 별찍기5 파이썬 www.acmicpc.net/problem/2442\n",
        "n = int(input()) \n",
        "for i in range(1,n+1): \n"
      ],
      "execution_count": null,
      "outputs": [
        {
          "output_type": "stream",
          "name": "stdout",
          "text": [
            "5\n",
            "    *\n",
            "   ***\n",
            "  *****\n",
            " *******\n",
            "*********\n"
          ]
        }
      ]
    },
    {
      "cell_type": "code",
      "metadata": {
        "colab": {
          "base_uri": "https://localhost:8080/"
        },
        "id": "e8FTG3NwH1pH",
        "outputId": "122d3652-c867-4c3b-f460-cbae137c3fea"
      },
      "source": [
        "#6. 백준 2443번 별찍기6 파이썬 www.acmicpc.net/problem/2443\n",
        "n = int(input()) \n",
        "for i in range(n,0,-1):"
      ],
      "execution_count": null,
      "outputs": [
        {
          "output_type": "stream",
          "name": "stdout",
          "text": [
            "5\n",
            "*********\n",
            " *******\n",
            "  *****\n",
            "   ***\n",
            "    *\n"
          ]
        }
      ]
    },
    {
      "cell_type": "code",
      "metadata": {
        "id": "PxOR5EslH9JN"
      },
      "source": [
        "#7. 백준 2444번 별찍기7 파이썬www.acmicpc.net/problem/2444\n",
        "n = int(input()) \n",
        "for i in range(1,n+1): print(\" \"*(n-i)+\"*\"*(i*2-1)) \n",
        "for j in range(n-1, 0, -1): print(\" \"*(n-j)+\"*\"*(j*2-1))"
      ],
      "execution_count": null,
      "outputs": []
    },
    {
      "cell_type": "code",
      "metadata": {
        "id": "NrSmQlQRIEyP"
      },
      "source": [
        "#8. 백준 2445번 별찍기8 파이썬 www.acmicpc.net/problem/2445\n",
        "n = int(input()) \n",
        "for i in range(1, n+1): print(\"*\"*i + \" \"*(n*2-i*2) + \"*\"*i) \n",
        "for i in range(n-1, 0, -1): print(\"*\"*i + \" \"*(n*2-i*2) + \"*\"*i)"
      ],
      "execution_count": null,
      "outputs": []
    },
    {
      "cell_type": "code",
      "metadata": {
        "id": "y3XA5ldAIOS-"
      },
      "source": [
        "#9. 백준 2446번 별찍기9 파이썬 www.acmicpc.net/problem/2446\n",
        "n = int(input()) \n",
        "for i in range(n,0,-1): print(\" \"*(n-i) + \"*\"*(i*2-1)) \n",
        "for i in range(2,n+1): print(\" \"*(n-i)+\"*\"*(i*2-1))"
      ],
      "execution_count": null,
      "outputs": []
    },
    {
      "cell_type": "markdown",
      "metadata": {
        "id": "Hj2xkDEfNqQH"
      },
      "source": [
        "#별찍기\n",
        "for\n",
        "오감도 찍기<시 제4호>\n",
        "\n",
        "[이상의 오감도](https://ko.wikipedia.org/wiki/%EC%98%A4%EA%B0%90%EB%8F%84)<br>\n",
        "\n",
        "<img src = \"http://file2.instiz.net/data/cached_img/upload/2015/11/14/23/5b8376db505713cd0906a3349125062b.png\" width=\"300\" height=\"400\">\n",
        "\n",
        "<img src = \"https://img.khan.co.kr/news/2007/11/27/7k27k04j.webp\" width=\"300\" height=\"200\">"
      ]
    },
    {
      "cell_type": "code",
      "metadata": {
        "colab": {
          "base_uri": "https://localhost:8080/"
        },
        "id": "PBbgh4BsYmRg",
        "outputId": "f261942f-0dfd-437d-bdc1-21fbed88fe14"
      },
      "source": [
        "print('환자의 용태에 관한 문제')\n",
        "for i in range(10, -1, -1):\n",
        "  print()\n",
        "  for j in range(10, 0, -1):\n",
        "\n",
        "\n",
        "print(\"'.\\n\\n진단 0.1\\n26.10.1931\\n 이상 책임의사 이 상\")"
      ],
      "execution_count": null,
      "outputs": [
        {
          "output_type": "stream",
          "name": "stdout",
          "text": [
            "환자의 용태에 관한 문제\n",
            "\n",
            ". 0 9 8 7 6 5 4 3 2 1 \n",
            "0 . 9 8 7 6 5 4 3 2 1 \n",
            "0 9 . 8 7 6 5 4 3 2 1 \n",
            "0 9 8 . 7 6 5 4 3 2 1 \n",
            "0 9 8 7 . 6 5 4 3 2 1 \n",
            "0 9 8 7 6 . 5 4 3 2 1 \n",
            "0 9 8 7 6 5 . 4 3 2 1 \n",
            "0 9 8 7 6 5 4 . 3 2 1 \n",
            "0 9 8 7 6 5 4 3 . 2 1 \n",
            "0 9 8 7 6 5 4 3 2 . 1 \n",
            "0 9 8 7 6 5 4 3 2 1 '.\n",
            "\n",
            "진단 0.1\n",
            "26.10.1931\n",
            " 이상 책임의사 이 상\n"
          ]
        }
      ]
    },
    {
      "cell_type": "code",
      "metadata": {
        "colab": {
          "base_uri": "https://localhost:8080/"
        },
        "id": "XpyVkeuXrNdN",
        "outputId": "3ef41f88-d823-4530-e300-9b7c288289ba"
      },
      "source": [
        "for i in range(3, -1, -1):\n",
        "  print(i)"
      ],
      "execution_count": null,
      "outputs": [
        {
          "output_type": "stream",
          "name": "stdout",
          "text": [
            "3\n",
            "2\n",
            "1\n",
            "0\n"
          ]
        }
      ]
    }
  ]
}